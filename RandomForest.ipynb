{
 "cells": [
  {
   "cell_type": "code",
   "execution_count": 1,
   "metadata": {
    "collapsed": true
   },
   "outputs": [],
   "source": [
    "import numpy as np \n",
    "import pandas as pd\n",
    "import matplotlib.pyplot as plt\n",
    "import json\n",
    "import re\n",
    "import nltk\n",
    "import pickle\n",
    "from sklearn.ensemble import RandomForestClassifier\n",
    "from sklearn.multiclass import OneVsRestClassifier\n",
    "import operator\n",
    "from sklearn.model_selection import train_test_split\n",
    "import math\n",
    "from sklearn import metrics\n",
    "from gensim.models import word2vec\n",
    "from sklearn.model_selection import cross_validate\n",
    "%matplotlib inline"
   ]
  },
  {
   "cell_type": "markdown",
   "metadata": {},
   "source": [
    "# Bag Of Words Model with Random Forest"
   ]
  },
  {
   "cell_type": "code",
   "execution_count": 2,
   "metadata": {
    "collapsed": true
   },
   "outputs": [],
   "source": [
    "BagOfWords = pickle.load(open(\"BagWords.pkl\",\"rb\"))"
   ]
  },
  {
   "cell_type": "code",
   "execution_count": 17,
   "metadata": {
    "collapsed": true
   },
   "outputs": [],
   "source": [
    "X_BoW = list()\n",
    "y_BoW = list()\n",
    "\n",
    "for i in range(len(BagOfWords)):\n",
    "    X_BoW.append(BagOfWords[i][0])\n",
    "    y_BoW.append(BagOfWords[i][1])"
   ]
  },
  {
   "cell_type": "code",
   "execution_count": 18,
   "metadata": {
    "collapsed": true
   },
   "outputs": [],
   "source": [
    "X_BoW_Train, X_BoW_Test, y_BoW_Train, y_BoW_Test = train_test_split(X_BoW,y_BoW, test_size = 0.2, random_state = 42)"
   ]
  },
  {
   "cell_type": "code",
   "execution_count": 19,
   "metadata": {},
   "outputs": [
    {
     "name": "stdout",
     "output_type": "stream",
     "text": [
      "Accuracy 0.829130690738\n",
      "Metrics              precision    recall  f1-score   support\n",
      "\n",
      "         -1       0.65      0.84      0.73      1601\n",
      "          0       0.90      0.82      0.85     11970\n",
      "          1       0.78      0.85      0.81      6813\n",
      "\n",
      "avg / total       0.84      0.83      0.83     20384\n",
      "\n"
     ]
    }
   ],
   "source": [
    "Classifier = RandomForestClassifier()\n",
    "Classifier.fit(X_BoW_Train,y_BoW_Train)\n",
    "predicted = Classifier.predict(X_BoW_Test)\n",
    "print(\"Accuracy\", Classifier.score(X_BoW_Test,y_BoW_Test))\n",
    "print(\"Metrics\", metrics.classification_report(predicted,y_BoW_Test))"
   ]
  },
  {
   "cell_type": "code",
   "execution_count": 20,
   "metadata": {},
   "outputs": [
    {
     "name": "stdout",
     "output_type": "stream",
     "text": [
      "[ 0.81977707  0.82642706  0.82679412  0.82052032  0.82452233]\n",
      "[ 0.76644628  0.75643255  0.76486527  0.76421128  0.76181689]\n"
     ]
    }
   ],
   "source": [
    "scoring = ['precision_macro', 'recall_macro']\n",
    "scores = cross_validate(Classifier, X_BoW_Train, y_BoW_Train, scoring=scoring,cv=5,return_train_score=False)\n",
    "print(scores[\"test_precision_macro\"])\n",
    "print(scores[\"test_recall_macro\"])"
   ]
  },
  {
   "cell_type": "markdown",
   "metadata": {},
   "source": [
    "### Upload new prepared testing set"
   ]
  },
  {
   "cell_type": "code",
   "execution_count": 7,
   "metadata": {
    "collapsed": true
   },
   "outputs": [],
   "source": [
    "TestBagOfWords = pickle.load(open(\"testing.pkl\", \"rb\"))\n",
    "X_BoW_Test = list()\n",
    "y_BoW_Test = list()\n",
    "\n",
    "for i in range(len(TestBagOfWords)):\n",
    "    X_BoW_Test.append(TestBagOfWords[i][0])\n",
    "    y_BoW_Test.append(TestBagOfWords[i][1])"
   ]
  },
  {
   "cell_type": "code",
   "execution_count": 8,
   "metadata": {},
   "outputs": [
    {
     "data": {
      "text/plain": [
       "RandomForestClassifier(bootstrap=True, class_weight=None, criterion='gini',\n",
       "            max_depth=None, max_features='auto', max_leaf_nodes=None,\n",
       "            min_impurity_decrease=0.0, min_impurity_split=None,\n",
       "            min_samples_leaf=1, min_samples_split=2,\n",
       "            min_weight_fraction_leaf=0.0, n_estimators=10, n_jobs=1,\n",
       "            oob_score=False, random_state=None, verbose=0,\n",
       "            warm_start=False)"
      ]
     },
     "execution_count": 8,
     "metadata": {},
     "output_type": "execute_result"
    }
   ],
   "source": [
    "Classifier = RandomForestClassifier(n_estimators = 300)\n",
    "Classifier.fit(X_BoW,y_BoW)"
   ]
  },
  {
   "cell_type": "code",
   "execution_count": 9,
   "metadata": {},
   "outputs": [
    {
     "name": "stdout",
     "output_type": "stream",
     "text": [
      "Accuracy 0.699493444577\n",
      "Metrics              precision    recall  f1-score   support\n",
      "\n",
      "         -1       0.34      0.28      0.31       621\n",
      "          0       0.80      0.81      0.80      4972\n",
      "          1       0.43      0.45      0.44      1119\n",
      "\n",
      "avg / total       0.70      0.70      0.70      6712\n",
      "\n"
     ]
    }
   ],
   "source": [
    "predicted = Classifier.predict(X_BoW_Test)\n",
    "print(\"Accuracy\", Classifier.score(X_BoW_Test,y_BoW_Test))\n",
    "print(\"Metrics\", metrics.classification_report(predicted,y_BoW_Test))"
   ]
  },
  {
   "cell_type": "markdown",
   "metadata": {},
   "source": [
    "# Word2Vec model with Random Forest"
   ]
  },
  {
   "cell_type": "code",
   "execution_count": 10,
   "metadata": {
    "collapsed": true
   },
   "outputs": [],
   "source": [
    "X_W2V = pickle.load(open(\"text.pkl\",\"rb\"))\n",
    "y_W2V = pickle.load(open(\"sentiment.pkl\",\"rb\"))"
   ]
  },
  {
   "cell_type": "code",
   "execution_count": 11,
   "metadata": {
    "collapsed": true
   },
   "outputs": [],
   "source": [
    "X_W2V_Train, X_W2V_Test, y_W2V_Train, y_W2V_Test = train_test_split(X_W2V,y_W2V, test_size = 0.2, random_state = 42)"
   ]
  },
  {
   "cell_type": "code",
   "execution_count": 12,
   "metadata": {},
   "outputs": [
    {
     "data": {
      "text/plain": [
       "RandomForestClassifier(bootstrap=True, class_weight=None, criterion='gini',\n",
       "            max_depth=None, max_features='auto', max_leaf_nodes=None,\n",
       "            min_impurity_decrease=0.0, min_impurity_split=None,\n",
       "            min_samples_leaf=1, min_samples_split=2,\n",
       "            min_weight_fraction_leaf=0.0, n_estimators=10, n_jobs=1,\n",
       "            oob_score=False, random_state=None, verbose=0,\n",
       "            warm_start=False)"
      ]
     },
     "execution_count": 12,
     "metadata": {},
     "output_type": "execute_result"
    }
   ],
   "source": [
    "Classifier = RandomForestClassifier()\n",
    "Classifier.fit(X_W2V_Train,y_W2V_Train)"
   ]
  },
  {
   "cell_type": "code",
   "execution_count": 13,
   "metadata": {},
   "outputs": [
    {
     "name": "stdout",
     "output_type": "stream",
     "text": [
      "Accuracy 0.794433854365\n",
      "Metrics              precision    recall  f1-score   support\n",
      "\n",
      "         -1       0.74      0.81      0.78      1932\n",
      "          0       0.83      0.76      0.79      6411\n",
      "          1       0.78      0.83      0.80      4772\n",
      "\n",
      "avg / total       0.80      0.79      0.79     13115\n",
      "\n"
     ]
    }
   ],
   "source": [
    "predicted = Classifier.predict(X_W2V_Test)\n",
    "print(\"Accuracy\", Classifier.score(X_W2V_Test,y_W2V_Test))\n",
    "print(\"Metrics\", metrics.classification_report(predicted,y_W2V_Test))"
   ]
  },
  {
   "cell_type": "code",
   "execution_count": 14,
   "metadata": {
    "collapsed": true
   },
   "outputs": [],
   "source": [
    "X_W2V_Test = pickle.load(open(\"test_text.pkl\",\"rb\"))\n",
    "y_W2V_Test = pickle.load(open(\"test_sentiment.pkl\",\"rb\"))"
   ]
  },
  {
   "cell_type": "code",
   "execution_count": 15,
   "metadata": {},
   "outputs": [
    {
     "data": {
      "text/plain": [
       "RandomForestClassifier(bootstrap=True, class_weight=None, criterion='gini',\n",
       "            max_depth=None, max_features='auto', max_leaf_nodes=None,\n",
       "            min_impurity_decrease=0.0, min_impurity_split=None,\n",
       "            min_samples_leaf=1, min_samples_split=2,\n",
       "            min_weight_fraction_leaf=0.0, n_estimators=10, n_jobs=1,\n",
       "            oob_score=False, random_state=None, verbose=0,\n",
       "            warm_start=False)"
      ]
     },
     "execution_count": 15,
     "metadata": {},
     "output_type": "execute_result"
    }
   ],
   "source": [
    "Classifier = RandomForestClassifier()\n",
    "Classifier.fit(X_W2V,y_W2V)"
   ]
  },
  {
   "cell_type": "code",
   "execution_count": 16,
   "metadata": {},
   "outputs": [
    {
     "name": "stdout",
     "output_type": "stream",
     "text": [
      "Accuracy 0.624404052443\n",
      "Metrics              precision    recall  f1-score   support\n",
      "\n",
      "         -1       0.48      0.23      0.31      1044\n",
      "          0       0.68      0.80      0.74      4267\n",
      "          1       0.45      0.38      0.41      1401\n",
      "\n",
      "avg / total       0.60      0.62      0.60      6712\n",
      "\n"
     ]
    }
   ],
   "source": [
    "predicted = Classifier.predict(X_W2V_Test)\n",
    "print(\"Accuracy\", Classifier.score(X_W2V_Test,y_W2V_Test))\n",
    "print(\"Metrics\", metrics.classification_report(predicted,y_W2V_Test))"
   ]
  },
  {
   "cell_type": "code",
   "execution_count": 21,
   "metadata": {},
   "outputs": [
    {
     "name": "stdout",
     "output_type": "stream",
     "text": [
      "[ 0.67691791  0.63672382  0.58981847  0.66582776  0.65361641]\n",
      "[ 0.61957273  0.59595847  0.55562837  0.67267386  0.65083826]\n"
     ]
    }
   ],
   "source": [
    "scoring = ['precision_macro', 'recall_macro']\n",
    "scores = cross_validate(Classifier, X_W2V, y_W2V, scoring=scoring,cv=5,return_train_score=False)\n",
    "print(scores[\"test_precision_macro\"])\n",
    "print(scores[\"test_recall_macro\"])"
   ]
  },
  {
   "cell_type": "markdown",
   "metadata": {},
   "source": [
    "#### In future work I want to tune parameters of my model. Good results was shown with Random Forest(no tuning) and Extreme Gradient Boosting(no tuning) with CatBoost"
   ]
  },
  {
   "cell_type": "code",
   "execution_count": null,
   "metadata": {
    "collapsed": true
   },
   "outputs": [],
   "source": []
  }
 ],
 "metadata": {
  "kernelspec": {
   "display_name": "Python 3",
   "language": "python",
   "name": "python3"
  },
  "language_info": {
   "codemirror_mode": {
    "name": "ipython",
    "version": 3
   },
   "file_extension": ".py",
   "mimetype": "text/x-python",
   "name": "python",
   "nbconvert_exporter": "python",
   "pygments_lexer": "ipython3",
   "version": "3.6.1"
  }
 },
 "nbformat": 4,
 "nbformat_minor": 2
}
