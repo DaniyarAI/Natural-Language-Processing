{
 "cells": [
  {
   "cell_type": "code",
   "execution_count": 1,
   "metadata": {
    "collapsed": true
   },
   "outputs": [],
   "source": [
    "import numpy as np \n",
    "import pandas as pd\n",
    "import matplotlib.pyplot as plt\n",
    "import json\n",
    "import re\n",
    "import nltk\n",
    "import pickle\n",
    "from catboost import CatBoostClassifier\n",
    "from sklearn.multiclass import OneVsRestClassifier\n",
    "import operator\n",
    "from sklearn.model_selection import train_test_split\n",
    "import math\n",
    "from sklearn import metrics\n",
    "from gensim.models import word2vec\n",
    "from sklearn.model_selection import cross_validate\n",
    "%matplotlib inline"
   ]
  },
  {
   "cell_type": "markdown",
   "metadata": {},
   "source": [
    "# Bag Of Words Model with Gradient Boosted Tree"
   ]
  },
  {
   "cell_type": "code",
   "execution_count": 2,
   "metadata": {
    "collapsed": true
   },
   "outputs": [],
   "source": [
    "BagOfWords = pickle.load(open(\"BagWords.pkl\",\"rb\"))"
   ]
  },
  {
   "cell_type": "code",
   "execution_count": 3,
   "metadata": {
    "collapsed": true
   },
   "outputs": [],
   "source": [
    "X_BoW = list()\n",
    "y_BoW = list()\n",
    "\n",
    "for i in range(len(BagOfWords)):\n",
    "    X_BoW.append(BagOfWords[i][0])\n",
    "    y_BoW.append(BagOfWords[i][1])"
   ]
  },
  {
   "cell_type": "code",
   "execution_count": 4,
   "metadata": {
    "collapsed": true
   },
   "outputs": [],
   "source": [
    "X_BoW_Train, X_BoW_Test, y_BoW_Train, y_BoW_Test = train_test_split(X_BoW,y_BoW, test_size = 0.2, random_state = 42)"
   ]
  },
  {
   "cell_type": "code",
   "execution_count": 8,
   "metadata": {},
   "outputs": [
    {
     "name": "stdout",
     "output_type": "stream",
     "text": [
      "Accuracy 0.739403453689\n",
      "Metrics              precision    recall  f1-score   support\n",
      "\n",
      "         -1       0.34      0.80      0.48       873\n",
      "          0       0.87      0.72      0.79     13166\n",
      "          1       0.66      0.77      0.71      6345\n",
      "\n",
      "avg / total       0.78      0.74      0.75     20384\n",
      "\n"
     ]
    }
   ],
   "source": [
    "Classifier = OneVsRestClassifier(CatBoostClassifier()).fit(X_BoW_Train, y_BoW_Train)\n",
    "predicted = Classifier.predict(X_BoW_Test)\n",
    "print(\"Accuracy\", Classifier.score(X_BoW_Test,y_BoW_Test))\n",
    "print(\"Metrics\", metrics.classification_report(predicted,y_BoW_Test))"
   ]
  },
  {
   "cell_type": "code",
   "execution_count": 9,
   "metadata": {},
   "outputs": [
    {
     "name": "stdout",
     "output_type": "stream",
     "text": [
      "[ 0.75162868  0.75208625  0.76499164  0.76280028  0.76024529]\n",
      "[ 0.62167867  0.60269444  0.61687831  0.61760752  0.61378019]\n"
     ]
    }
   ],
   "source": [
    "scoring = ['precision_macro', 'recall_macro']\n",
    "scores = cross_validate(Classifier, X_BoW_Train, y_BoW_Train, scoring=scoring,cv=5,return_train_score=False)\n",
    "print(scores[\"test_precision_macro\"])\n",
    "print(scores[\"test_recall_macro\"])"
   ]
  },
  {
   "cell_type": "markdown",
   "metadata": {},
   "source": [
    "### Upload new prepared testing set"
   ]
  },
  {
   "cell_type": "code",
   "execution_count": 10,
   "metadata": {
    "collapsed": true
   },
   "outputs": [],
   "source": [
    "TestBagOfWords = pickle.load(open(\"testing.pkl\", \"rb\"))\n",
    "X_BoW_Test = list()\n",
    "y_BoW_Test = list()\n",
    "\n",
    "for i in range(len(TestBagOfWords)):\n",
    "    X_BoW_Test.append(TestBagOfWords[i][0])\n",
    "    y_BoW_Test.append(TestBagOfWords[i][1])"
   ]
  },
  {
   "cell_type": "code",
   "execution_count": 11,
   "metadata": {},
   "outputs": [],
   "source": [
    "Classifier = OneVsRestClassifier(CatBoostClassifier()).fit(X_BoW, y_BoW)"
   ]
  },
  {
   "cell_type": "code",
   "execution_count": 12,
   "metadata": {},
   "outputs": [
    {
     "name": "stdout",
     "output_type": "stream",
     "text": [
      "Accuracy 0.770709177592\n",
      "Metrics              precision    recall  f1-score   support\n",
      "\n",
      "         -1       0.31      0.55      0.40       287\n",
      "          0       0.89      0.82      0.86      5442\n",
      "          1       0.46      0.55      0.50       983\n",
      "\n",
      "avg / total       0.80      0.77      0.78      6712\n",
      "\n"
     ]
    }
   ],
   "source": [
    "predicted = Classifier.predict(X_BoW_Test)\n",
    "print(\"Accuracy\", Classifier.score(X_BoW_Test,y_BoW_Test))\n",
    "print(\"Metrics\", metrics.classification_report(predicted,y_BoW_Test))"
   ]
  },
  {
   "cell_type": "markdown",
   "metadata": {},
   "source": [
    "# Word2Vec model with Gradient Boosted Tree"
   ]
  },
  {
   "cell_type": "code",
   "execution_count": 13,
   "metadata": {
    "collapsed": true
   },
   "outputs": [],
   "source": [
    "X_W2V = pickle.load(open(\"text.pkl\",\"rb\"))\n",
    "y_W2V = pickle.load(open(\"sentiment.pkl\",\"rb\"))"
   ]
  },
  {
   "cell_type": "code",
   "execution_count": 14,
   "metadata": {
    "collapsed": true
   },
   "outputs": [],
   "source": [
    "X_W2V_Train, X_W2V_Test, y_W2V_Train, y_W2V_Test = train_test_split(X_W2V,y_W2V, test_size = 0.2, random_state = 42)"
   ]
  },
  {
   "cell_type": "code",
   "execution_count": 43,
   "metadata": {},
   "outputs": [
    {
     "data": {
      "text/plain": [
       "OneVsRestClassifier(estimator=<catboost.core.CatBoostClassifier object at 0x7f8dbd7ed358>,\n",
       "          n_jobs=1)"
      ]
     },
     "execution_count": 43,
     "metadata": {},
     "output_type": "execute_result"
    }
   ],
   "source": [
    "Classifier = OneVsRestClassifier(CatBoostClassifier(iterations=500,depth=10,learning_rate=0.03))\n",
    "Classifier.fit(X_W2V_Train,y_W2V_Train)"
   ]
  },
  {
   "cell_type": "code",
   "execution_count": 44,
   "metadata": {},
   "outputs": [
    {
     "name": "stdout",
     "output_type": "stream",
     "text": [
      "Accuracy 0.724076281287\n",
      "Metrics              precision    recall  f1-score   support\n",
      "\n",
      "         -1       0.47      0.34      0.40       713\n",
      "          0       0.78      0.85      0.81      4648\n",
      "          1       0.58      0.51      0.54      1351\n",
      "\n",
      "avg / total       0.71      0.72      0.71      6712\n",
      "\n"
     ]
    }
   ],
   "source": [
    "predicted = Classifier.predict(X_W2V_Test)\n",
    "print(\"Accuracy\", Classifier.score(X_W2V_Test,y_W2V_Test))\n",
    "print(\"Metrics\", metrics.classification_report(predicted,y_W2V_Test))"
   ]
  },
  {
   "cell_type": "code",
   "execution_count": 35,
   "metadata": {},
   "outputs": [
    {
     "name": "stdout",
     "output_type": "stream",
     "text": [
      "[ 0.80563738  0.80912373  0.81587733  0.80913044  0.81102667]\n",
      "[ 0.77830542  0.78646356  0.78935734  0.7803588   0.78556843]\n"
     ]
    }
   ],
   "source": [
    "scoring = ['precision_macro', 'recall_macro']\n",
    "scores = cross_validate(Classifier, X_W2V_Train, y_W2V_Train, scoring=scoring,cv=5,return_train_score=False)\n",
    "print(scores[\"test_precision_macro\"])\n",
    "print(scores[\"test_recall_macro\"])"
   ]
  },
  {
   "cell_type": "markdown",
   "metadata": {},
   "source": [
    "### Upload new testing set"
   ]
  },
  {
   "cell_type": "code",
   "execution_count": 46,
   "metadata": {
    "collapsed": true
   },
   "outputs": [],
   "source": [
    "X_W2V_Test = pickle.load(open(\"test_text.pkl\",\"rb\"))\n",
    "y_W2V_Test = pickle.load(open(\"test_sentiment.pkl\",\"rb\"))"
   ]
  },
  {
   "cell_type": "code",
   "execution_count": 45,
   "metadata": {},
   "outputs": [
    {
     "data": {
      "text/plain": [
       "OneVsRestClassifier(estimator=<catboost.core.CatBoostClassifier object at 0x7f8dbd7ed7f0>,\n",
       "          n_jobs=1)"
      ]
     },
     "execution_count": 45,
     "metadata": {},
     "output_type": "execute_result"
    }
   ],
   "source": [
    "Classifier = OneVsRestClassifier(CatBoostClassifier(iterations=500,depth=10,learning_rate=0.03))\n",
    "Classifier.fit(X_W2V,y_W2V)"
   ]
  },
  {
   "cell_type": "code",
   "execution_count": null,
   "metadata": {},
   "outputs": [
    {
     "name": "stdout",
     "output_type": "stream",
     "text": [
      "Accuracy 0.712455303933\n",
      "Metrics              precision    recall  f1-score   support\n",
      "\n",
      "         -1       0.48      0.30      0.37       809\n",
      "          0       0.77      0.84      0.80      4580\n",
      "          1       0.58      0.51      0.54      1323\n",
      "\n",
      "avg / total       0.70      0.71      0.70      6712\n",
      "\n"
     ]
    }
   ],
   "source": [
    "predicted = Classifier.predict(X_W2V_Test)\n",
    "print(\"Accuracy\", Classifier.score(X_W2V_Test,y_W2V_Test))\n",
    "print(\"Metrics\", metrics.classification_report(predicted,y_W2V_Test))"
   ]
  },
  {
   "cell_type": "code",
   "execution_count": null,
   "metadata": {},
   "outputs": [],
   "source": [
    "scoring = ['precision_macro', 'recall_macro']\n",
    "scores = cross_validate(Classifier, X_W2V, y_W2V, scoring=scoring,cv=5,return_train_score=False)\n",
    "print(scores[\"test_precision_macro\"])\n",
    "print(scores[\"test_recall_macro\"])"
   ]
  },
  {
   "cell_type": "markdown",
   "metadata": {},
   "source": [
    "#### In future work I want to tune parameters of my model. Good results was shown with Random Forest(no tuning) and Extreme Gradient Boosting(no tuning) with CatBoost"
   ]
  }
 ],
 "metadata": {
  "kernelspec": {
   "display_name": "Python 3",
   "language": "python",
   "name": "python3"
  },
  "language_info": {
   "codemirror_mode": {
    "name": "ipython",
    "version": 3
   },
   "file_extension": ".py",
   "mimetype": "text/x-python",
   "name": "python",
   "nbconvert_exporter": "python",
   "pygments_lexer": "ipython3",
   "version": "3.6.1"
  }
 },
 "nbformat": 4,
 "nbformat_minor": 2
}
