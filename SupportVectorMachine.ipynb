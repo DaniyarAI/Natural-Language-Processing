{
 "cells": [
  {
   "cell_type": "code",
   "execution_count": 1,
   "metadata": {
    "collapsed": true
   },
   "outputs": [],
   "source": [
    "import numpy as np \n",
    "import pandas as pd\n",
    "import matplotlib.pyplot as plt\n",
    "import json\n",
    "import re\n",
    "import nltk\n",
    "import pickle\n",
    "from sklearn.multiclass import OneVsRestClassifier\n",
    "import operator\n",
    "from sklearn.model_selection import train_test_split\n",
    "import math\n",
    "from sklearn import metrics\n",
    "from gensim.models import word2vec\n",
    "from sklearn.svm import SVC\n",
    "from sklearn.model_selection import cross_validate\n",
    "%matplotlib inline"
   ]
  },
  {
   "cell_type": "markdown",
   "metadata": {},
   "source": [
    "# Bag Of Words Model with Support Vector Machine"
   ]
  },
  {
   "cell_type": "code",
   "execution_count": 2,
   "metadata": {
    "collapsed": true
   },
   "outputs": [],
   "source": [
    "BagOfWords = pickle.load(open(\"BagWords.pkl\",\"rb\"))"
   ]
  },
  {
   "cell_type": "code",
   "execution_count": 3,
   "metadata": {
    "collapsed": true
   },
   "outputs": [],
   "source": [
    "X_BoW = list()\n",
    "y_BoW = list()\n",
    "\n",
    "for i in range(len(BagOfWords)):\n",
    "    X_BoW.append(BagOfWords[i][0])\n",
    "    y_BoW.append(BagOfWords[i][1])"
   ]
  },
  {
   "cell_type": "code",
   "execution_count": 4,
   "metadata": {
    "collapsed": true
   },
   "outputs": [],
   "source": [
    "X_BoW_Train, X_BoW_Test, y_BoW_Train, y_BoW_Test = train_test_split(X_BoW,y_BoW, test_size = 0.2, random_state = 42)"
   ]
  },
  {
   "cell_type": "code",
   "execution_count": 6,
   "metadata": {},
   "outputs": [
    {
     "name": "stdout",
     "output_type": "stream",
     "text": [
      "Accuracy 0.722870879121\n",
      "Metrics              precision    recall  f1-score   support\n",
      "\n",
      "         -1       0.24      0.81      0.37       624\n",
      "          0       0.90      0.69      0.78     14205\n",
      "          1       0.60      0.80      0.69      5555\n",
      "\n",
      "avg / total       0.80      0.72      0.74     20384\n",
      "\n"
     ]
    }
   ],
   "source": [
    "Classifier = SVC()\n",
    "Classifier.fit(X_BoW_Train,y_BoW_Train)\n",
    "predicted = Classifier.predict(X_BoW_Test)\n",
    "print(\"Accuracy\", Classifier.score(X_BoW_Test,y_BoW_Test))\n",
    "print(\"Metrics\", metrics.classification_report(predicted,y_BoW_Test))"
   ]
  },
  {
   "cell_type": "code",
   "execution_count": 7,
   "metadata": {},
   "outputs": [
    {
     "name": "stdout",
     "output_type": "stream",
     "text": [
      "[ 0.75602322  0.75151584  0.75919229  0.7491399   0.75637599]\n",
      "[ 0.56303324  0.55588121  0.56228074  0.55715604  0.55873762]\n"
     ]
    }
   ],
   "source": [
    "scoring = ['precision_macro', 'recall_macro']\n",
    "scores = cross_validate(Classifier, X_BoW_Train, y_BoW_Train, scoring=scoring,cv=5,return_train_score=False)\n",
    "print(scores[\"test_precision_macro\"])\n",
    "print(scores[\"test_recall_macro\"])"
   ]
  },
  {
   "cell_type": "markdown",
   "metadata": {},
   "source": [
    "### Upload new prepared testing set"
   ]
  },
  {
   "cell_type": "code",
   "execution_count": 2,
   "metadata": {
    "collapsed": true
   },
   "outputs": [],
   "source": [
    "TestBagOfWords = pickle.load(open(\"testing.pkl\", \"rb\"))\n",
    "X_BoW_Test = list()\n",
    "y_BoW_Test = list()\n",
    "\n",
    "for i in range(len(TestBagOfWords)):\n",
    "    X_BoW_Test.append(TestBagOfWords[i][0])\n",
    "    y_BoW_Test.append(TestBagOfWords[i][1])"
   ]
  },
  {
   "cell_type": "code",
   "execution_count": 3,
   "metadata": {},
   "outputs": [
    {
     "ename": "NameError",
     "evalue": "name 'X_BoW' is not defined",
     "output_type": "error",
     "traceback": [
      "\u001b[0;31m---------------------------------------------------------------------------\u001b[0m",
      "\u001b[0;31mNameError\u001b[0m                                 Traceback (most recent call last)",
      "\u001b[0;32m<ipython-input-3-8deb80aa033f>\u001b[0m in \u001b[0;36m<module>\u001b[0;34m()\u001b[0m\n\u001b[1;32m      1\u001b[0m \u001b[0mClassifier\u001b[0m \u001b[0;34m=\u001b[0m \u001b[0mSVC\u001b[0m\u001b[0;34m(\u001b[0m\u001b[0;34m)\u001b[0m\u001b[0;34m\u001b[0m\u001b[0m\n\u001b[0;32m----> 2\u001b[0;31m \u001b[0mClassifier\u001b[0m\u001b[0;34m.\u001b[0m\u001b[0mfit\u001b[0m\u001b[0;34m(\u001b[0m\u001b[0mX_BoW\u001b[0m\u001b[0;34m,\u001b[0m\u001b[0my_BoW\u001b[0m\u001b[0;34m)\u001b[0m\u001b[0;34m\u001b[0m\u001b[0m\n\u001b[0m",
      "\u001b[0;31mNameError\u001b[0m: name 'X_BoW' is not defined"
     ]
    }
   ],
   "source": [
    "Classifier = SVC()\n",
    "Classifier.fit(X_BoW,y_BoW)"
   ]
  },
  {
   "cell_type": "code",
   "execution_count": null,
   "metadata": {
    "collapsed": true
   },
   "outputs": [],
   "source": [
    "predicted = Classifier.predict(X_BoW_Test)\n",
    "print(\"Accuracy\", Classifier.score(X_BoW_Test,y_BoW_Test))\n",
    "print(\"Metrics\", metrics.classification_report(predicted,y_BoW_Test))"
   ]
  },
  {
   "cell_type": "markdown",
   "metadata": {},
   "source": [
    "# Word2Vec model with Support Vector Machine"
   ]
  },
  {
   "cell_type": "code",
   "execution_count": 2,
   "metadata": {
    "collapsed": true
   },
   "outputs": [],
   "source": [
    "X_W2V = pickle.load(open(\"text.pkl\",\"rb\"))\n",
    "y_W2V = pickle.load(open(\"sentiment.pkl\",\"rb\"))"
   ]
  },
  {
   "cell_type": "code",
   "execution_count": 3,
   "metadata": {
    "collapsed": true
   },
   "outputs": [],
   "source": [
    "X_W2V_Train, X_W2V_Test, y_W2V_Train, y_W2V_Test = train_test_split(X_W2V,y_W2V, test_size = 0.2, random_state = 42)"
   ]
  },
  {
   "cell_type": "code",
   "execution_count": 4,
   "metadata": {},
   "outputs": [
    {
     "data": {
      "text/plain": [
       "SVC(C=1.0, cache_size=200, class_weight=None, coef0=0.0,\n",
       "  decision_function_shape='ovr', degree=3, gamma='auto', kernel='rbf',\n",
       "  max_iter=-1, probability=False, random_state=None, shrinking=True,\n",
       "  tol=0.001, verbose=False)"
      ]
     },
     "execution_count": 4,
     "metadata": {},
     "output_type": "execute_result"
    }
   ],
   "source": [
    "Classifier = SVC()\n",
    "Classifier.fit(X_W2V_Train,y_W2V_Train)"
   ]
  },
  {
   "cell_type": "code",
   "execution_count": 5,
   "metadata": {},
   "outputs": [
    {
     "name": "stdout",
     "output_type": "stream",
     "text": [
      "Accuracy 0.64948532215\n",
      "Metrics              precision    recall  f1-score   support\n",
      "\n",
      "         -1       0.21      0.83      0.33       525\n",
      "          0       0.79      0.59      0.68      7842\n",
      "          1       0.67      0.73      0.70      4748\n",
      "\n",
      "avg / total       0.72      0.65      0.67     13115\n",
      "\n"
     ]
    }
   ],
   "source": [
    "predicted = Classifier.predict(X_W2V_Test)\n",
    "print(\"Accuracy\", Classifier.score(X_W2V_Test,y_W2V_Test))\n",
    "print(\"Metrics\", metrics.classification_report(predicted,y_W2V_Test))"
   ]
  },
  {
   "cell_type": "markdown",
   "metadata": {},
   "source": [
    "### Upload new prepared testing set"
   ]
  },
  {
   "cell_type": "code",
   "execution_count": 6,
   "metadata": {
    "collapsed": true
   },
   "outputs": [],
   "source": [
    "X_W2V_Test = pickle.load(open(\"test_text.pkl\",\"rb\"))\n",
    "y_W2V_Test = pickle.load(open(\"test_sentiment.pkl\",\"rb\"))"
   ]
  },
  {
   "cell_type": "code",
   "execution_count": 7,
   "metadata": {},
   "outputs": [
    {
     "data": {
      "text/plain": [
       "SVC(C=1.0, cache_size=200, class_weight=None, coef0=0.0,\n",
       "  decision_function_shape='ovr', degree=3, gamma='auto', kernel='rbf',\n",
       "  max_iter=-1, probability=False, random_state=None, shrinking=True,\n",
       "  tol=0.001, verbose=False)"
      ]
     },
     "execution_count": 7,
     "metadata": {},
     "output_type": "execute_result"
    }
   ],
   "source": [
    "Classifier = SVC()\n",
    "Classifier.fit(X_W2V,y_W2V)"
   ]
  },
  {
   "cell_type": "code",
   "execution_count": 8,
   "metadata": {},
   "outputs": [
    {
     "name": "stdout",
     "output_type": "stream",
     "text": [
      "Accuracy 0.716030989273\n",
      "Metrics              precision    recall  f1-score   support\n",
      "\n",
      "         -1       0.12      0.29      0.17       206\n",
      "          0       0.80      0.82      0.81      4876\n",
      "          1       0.62      0.45      0.52      1630\n",
      "\n",
      "avg / total       0.74      0.72      0.72      6712\n",
      "\n"
     ]
    }
   ],
   "source": [
    "predicted = Classifier.predict(X_W2V_Test)\n",
    "print(\"Accuracy\", Classifier.score(X_W2V_Test,y_W2V_Test))\n",
    "print(\"Metrics\", metrics.classification_report(predicted,y_W2V_Test))"
   ]
  },
  {
   "cell_type": "code",
   "execution_count": null,
   "metadata": {
    "collapsed": true
   },
   "outputs": [],
   "source": [
    "scoring = ['precision_macro', 'recall_macro']\n",
    "scores = cross_validate(Classifier, X_W2V, y_W2V, scoring=scoring,cv=5,return_train_score=False)\n",
    "print(scores[\"test_precision_macro\"])\n",
    "print(scores[\"test_recall_macro\"])"
   ]
  },
  {
   "cell_type": "markdown",
   "metadata": {
    "collapsed": true
   },
   "source": [
    "#### In future work I want to tune parameters of my model. Good results was shown with Random Forest(no tuning) and Extreme Gradient Boosting(no tuning) with CatBoost"
   ]
  }
 ],
 "metadata": {
  "kernelspec": {
   "display_name": "Python 3",
   "language": "python",
   "name": "python3"
  },
  "language_info": {
   "codemirror_mode": {
    "name": "ipython",
    "version": 3
   },
   "file_extension": ".py",
   "mimetype": "text/x-python",
   "name": "python",
   "nbconvert_exporter": "python",
   "pygments_lexer": "ipython3",
   "version": "3.6.1"
  }
 },
 "nbformat": 4,
 "nbformat_minor": 2
}
